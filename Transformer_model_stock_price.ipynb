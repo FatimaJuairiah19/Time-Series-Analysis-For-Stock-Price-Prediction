{
  "cells": [
    {
      "metadata": {
        "id": "view-in-github"
      },
      "cell_type": "markdown",
      "source": [
        "<a href=\"https://colab.research.google.com/github/prikmm/Stock_predictor/blob/main/Stock_predictor.ipynb\" target=\"_parent\"><img src=\"https://colab.research.google.com/assets/colab-badge.svg\" alt=\"Open In Colab\"/></a>"
      ]
    },
    {
      "metadata": {
        "id": "4gPYx7ZtZm8A"
      },
      "cell_type": "markdown",
      "source": [
        "### Goal is to predict the price of IBM stock for year 2017!"
      ]
    },
    {
      "metadata": {
        "id": "cC0U9W0Tni0E",
        "outputId": "7595cd10-a4ae-48f8-aef6-cb98c3152cf6",
        "_kg_hide-output": true,
        "trusted": true,
        "colab": {
          "base_uri": "https://localhost:8080/"
        }
      },
      "cell_type": "code",
      "source": [
        "import tensorflow as tf\n",
        "from tensorflow import keras\n",
        "import numpy as np\n",
        "import pandas as pd\n",
        "import matplotlib.pyplot as plt\n",
        "import seaborn as sns\n",
        "import plotly.express as px\n",
        "import plotly.graph_objects as go\n",
        "import datetime\n",
        "import os\n",
        "import time\n",
        "!pip install ta\n",
        "import ta\n",
        "import warnings\n",
        "warnings.filterwarnings('ignore')\n",
        "import tensorflow_datasets as tfds\n",
        "!pip install tensorflow-addons\n",
        "import tensorflow_addons as tfa\n",
        "from sklearn.preprocessing import MinMaxScaler"
      ],
      "execution_count": null,
      "outputs": [
        {
          "output_type": "stream",
          "name": "stdout",
          "text": [
            "Looking in indexes: https://pypi.org/simple, https://us-python.pkg.dev/colab-wheels/public/simple/\n",
            "Collecting ta\n",
            "  Downloading ta-0.10.2.tar.gz (25 kB)\n",
            "Requirement already satisfied: numpy in /usr/local/lib/python3.7/dist-packages (from ta) (1.21.6)\n",
            "Requirement already satisfied: pandas in /usr/local/lib/python3.7/dist-packages (from ta) (1.3.5)\n",
            "Requirement already satisfied: python-dateutil>=2.7.3 in /usr/local/lib/python3.7/dist-packages (from pandas->ta) (2.8.2)\n",
            "Requirement already satisfied: pytz>=2017.3 in /usr/local/lib/python3.7/dist-packages (from pandas->ta) (2022.2.1)\n",
            "Requirement already satisfied: six>=1.5 in /usr/local/lib/python3.7/dist-packages (from python-dateutil>=2.7.3->pandas->ta) (1.15.0)\n",
            "Building wheels for collected packages: ta\n",
            "  Building wheel for ta (setup.py) ... \u001b[?25l\u001b[?25hdone\n",
            "  Created wheel for ta: filename=ta-0.10.2-py3-none-any.whl size=29104 sha256=196d3a1922ab692126b90b1676e43c4d3466a7e45ae948688f797a5edf635088\n",
            "  Stored in directory: /root/.cache/pip/wheels/31/31/f1/f2ff471bbc5b84a4b973698ceecdd453ae043971791adc3431\n",
            "Successfully built ta\n",
            "Installing collected packages: ta\n",
            "Successfully installed ta-0.10.2\n",
            "Looking in indexes: https://pypi.org/simple, https://us-python.pkg.dev/colab-wheels/public/simple/\n",
            "Collecting tensorflow-addons\n",
            "  Downloading tensorflow_addons-0.17.1-cp37-cp37m-manylinux_2_17_x86_64.manylinux2014_x86_64.whl (1.1 MB)\n",
            "\u001b[K     |████████████████████████████████| 1.1 MB 30.4 MB/s \n",
            "\u001b[?25hRequirement already satisfied: typeguard>=2.7 in /usr/local/lib/python3.7/dist-packages (from tensorflow-addons) (2.7.1)\n",
            "Requirement already satisfied: packaging in /usr/local/lib/python3.7/dist-packages (from tensorflow-addons) (21.3)\n",
            "Requirement already satisfied: pyparsing!=3.0.5,>=2.0.2 in /usr/local/lib/python3.7/dist-packages (from packaging->tensorflow-addons) (3.0.9)\n",
            "Installing collected packages: tensorflow-addons\n",
            "Successfully installed tensorflow-addons-0.17.1\n"
          ]
        }
      ]
    },
    {
      "metadata": {
        "id": "gpy7RToIoZmK",
        "outputId": "3b6d5de5-753b-4ba1-d6b5-2154a069a52a",
        "trusted": true,
        "colab": {
          "base_uri": "https://localhost:8080/",
          "height": 206
        }
      },
      "cell_type": "code",
      "source": [
        "complete_stock_df = pd.read_csv('MSFT.csv')\n",
        "complete_stock_df.head()"
      ],
      "execution_count": null,
      "outputs": [
        {
          "output_type": "execute_result",
          "data": {
            "text/plain": [
              "         date      Open      High       Low  closing_price  Adj Close  \\\n",
              "0  13/03/1986  0.088542  0.101563  0.088542       0.097222   0.061109   \n",
              "1  14/03/1986  0.097222  0.102431  0.097222       0.100694   0.063292   \n",
              "2  17/03/1986  0.100694  0.103299  0.100694       0.102431   0.064384   \n",
              "3  18/03/1986  0.102431  0.103299  0.098958       0.099826   0.062746   \n",
              "4  19/03/1986  0.099826  0.100694  0.097222       0.098090   0.061655   \n",
              "\n",
              "       Volume  \n",
              "0  1031788800  \n",
              "1   308160000  \n",
              "2   133171200  \n",
              "3    67766400  \n",
              "4    47894400  "
            ],
            "text/html": [
              "\n",
              "  <div id=\"df-9313992b-046b-4404-b1a1-db315c8bf209\">\n",
              "    <div class=\"colab-df-container\">\n",
              "      <div>\n",
              "<style scoped>\n",
              "    .dataframe tbody tr th:only-of-type {\n",
              "        vertical-align: middle;\n",
              "    }\n",
              "\n",
              "    .dataframe tbody tr th {\n",
              "        vertical-align: top;\n",
              "    }\n",
              "\n",
              "    .dataframe thead th {\n",
              "        text-align: right;\n",
              "    }\n",
              "</style>\n",
              "<table border=\"1\" class=\"dataframe\">\n",
              "  <thead>\n",
              "    <tr style=\"text-align: right;\">\n",
              "      <th></th>\n",
              "      <th>date</th>\n",
              "      <th>Open</th>\n",
              "      <th>High</th>\n",
              "      <th>Low</th>\n",
              "      <th>closing_price</th>\n",
              "      <th>Adj Close</th>\n",
              "      <th>Volume</th>\n",
              "    </tr>\n",
              "  </thead>\n",
              "  <tbody>\n",
              "    <tr>\n",
              "      <th>0</th>\n",
              "      <td>13/03/1986</td>\n",
              "      <td>0.088542</td>\n",
              "      <td>0.101563</td>\n",
              "      <td>0.088542</td>\n",
              "      <td>0.097222</td>\n",
              "      <td>0.061109</td>\n",
              "      <td>1031788800</td>\n",
              "    </tr>\n",
              "    <tr>\n",
              "      <th>1</th>\n",
              "      <td>14/03/1986</td>\n",
              "      <td>0.097222</td>\n",
              "      <td>0.102431</td>\n",
              "      <td>0.097222</td>\n",
              "      <td>0.100694</td>\n",
              "      <td>0.063292</td>\n",
              "      <td>308160000</td>\n",
              "    </tr>\n",
              "    <tr>\n",
              "      <th>2</th>\n",
              "      <td>17/03/1986</td>\n",
              "      <td>0.100694</td>\n",
              "      <td>0.103299</td>\n",
              "      <td>0.100694</td>\n",
              "      <td>0.102431</td>\n",
              "      <td>0.064384</td>\n",
              "      <td>133171200</td>\n",
              "    </tr>\n",
              "    <tr>\n",
              "      <th>3</th>\n",
              "      <td>18/03/1986</td>\n",
              "      <td>0.102431</td>\n",
              "      <td>0.103299</td>\n",
              "      <td>0.098958</td>\n",
              "      <td>0.099826</td>\n",
              "      <td>0.062746</td>\n",
              "      <td>67766400</td>\n",
              "    </tr>\n",
              "    <tr>\n",
              "      <th>4</th>\n",
              "      <td>19/03/1986</td>\n",
              "      <td>0.099826</td>\n",
              "      <td>0.100694</td>\n",
              "      <td>0.097222</td>\n",
              "      <td>0.098090</td>\n",
              "      <td>0.061655</td>\n",
              "      <td>47894400</td>\n",
              "    </tr>\n",
              "  </tbody>\n",
              "</table>\n",
              "</div>\n",
              "      <button class=\"colab-df-convert\" onclick=\"convertToInteractive('df-9313992b-046b-4404-b1a1-db315c8bf209')\"\n",
              "              title=\"Convert this dataframe to an interactive table.\"\n",
              "              style=\"display:none;\">\n",
              "        \n",
              "  <svg xmlns=\"http://www.w3.org/2000/svg\" height=\"24px\"viewBox=\"0 0 24 24\"\n",
              "       width=\"24px\">\n",
              "    <path d=\"M0 0h24v24H0V0z\" fill=\"none\"/>\n",
              "    <path d=\"M18.56 5.44l.94 2.06.94-2.06 2.06-.94-2.06-.94-.94-2.06-.94 2.06-2.06.94zm-11 1L8.5 8.5l.94-2.06 2.06-.94-2.06-.94L8.5 2.5l-.94 2.06-2.06.94zm10 10l.94 2.06.94-2.06 2.06-.94-2.06-.94-.94-2.06-.94 2.06-2.06.94z\"/><path d=\"M17.41 7.96l-1.37-1.37c-.4-.4-.92-.59-1.43-.59-.52 0-1.04.2-1.43.59L10.3 9.45l-7.72 7.72c-.78.78-.78 2.05 0 2.83L4 21.41c.39.39.9.59 1.41.59.51 0 1.02-.2 1.41-.59l7.78-7.78 2.81-2.81c.8-.78.8-2.07 0-2.86zM5.41 20L4 18.59l7.72-7.72 1.47 1.35L5.41 20z\"/>\n",
              "  </svg>\n",
              "      </button>\n",
              "      \n",
              "  <style>\n",
              "    .colab-df-container {\n",
              "      display:flex;\n",
              "      flex-wrap:wrap;\n",
              "      gap: 12px;\n",
              "    }\n",
              "\n",
              "    .colab-df-convert {\n",
              "      background-color: #E8F0FE;\n",
              "      border: none;\n",
              "      border-radius: 50%;\n",
              "      cursor: pointer;\n",
              "      display: none;\n",
              "      fill: #1967D2;\n",
              "      height: 32px;\n",
              "      padding: 0 0 0 0;\n",
              "      width: 32px;\n",
              "    }\n",
              "\n",
              "    .colab-df-convert:hover {\n",
              "      background-color: #E2EBFA;\n",
              "      box-shadow: 0px 1px 2px rgba(60, 64, 67, 0.3), 0px 1px 3px 1px rgba(60, 64, 67, 0.15);\n",
              "      fill: #174EA6;\n",
              "    }\n",
              "\n",
              "    [theme=dark] .colab-df-convert {\n",
              "      background-color: #3B4455;\n",
              "      fill: #D2E3FC;\n",
              "    }\n",
              "\n",
              "    [theme=dark] .colab-df-convert:hover {\n",
              "      background-color: #434B5C;\n",
              "      box-shadow: 0px 1px 3px 1px rgba(0, 0, 0, 0.15);\n",
              "      filter: drop-shadow(0px 1px 2px rgba(0, 0, 0, 0.3));\n",
              "      fill: #FFFFFF;\n",
              "    }\n",
              "  </style>\n",
              "\n",
              "      <script>\n",
              "        const buttonEl =\n",
              "          document.querySelector('#df-9313992b-046b-4404-b1a1-db315c8bf209 button.colab-df-convert');\n",
              "        buttonEl.style.display =\n",
              "          google.colab.kernel.accessAllowed ? 'block' : 'none';\n",
              "\n",
              "        async function convertToInteractive(key) {\n",
              "          const element = document.querySelector('#df-9313992b-046b-4404-b1a1-db315c8bf209');\n",
              "          const dataTable =\n",
              "            await google.colab.kernel.invokeFunction('convertToInteractive',\n",
              "                                                     [key], {});\n",
              "          if (!dataTable) return;\n",
              "\n",
              "          const docLinkHtml = 'Like what you see? Visit the ' +\n",
              "            '<a target=\"_blank\" href=https://colab.research.google.com/notebooks/data_table.ipynb>data table notebook</a>'\n",
              "            + ' to learn more about interactive tables.';\n",
              "          element.innerHTML = '';\n",
              "          dataTable['output_type'] = 'display_data';\n",
              "          await google.colab.output.renderOutput(dataTable, element);\n",
              "          const docLink = document.createElement('div');\n",
              "          docLink.innerHTML = docLinkHtml;\n",
              "          element.appendChild(docLink);\n",
              "        }\n",
              "      </script>\n",
              "    </div>\n",
              "  </div>\n",
              "  "
            ]
          },
          "metadata": {},
          "execution_count": 2
        }
      ]
    },
    {
      "metadata": {
        "id": "7KFREp1qqVLi",
        "outputId": "48da0e1b-10ad-4b0d-ffaf-a48b2c71f125",
        "trusted": true,
        "colab": {
          "base_uri": "https://localhost:8080/"
        }
      },
      "cell_type": "code",
      "source": [
        "complete_stock_df.info()"
      ],
      "execution_count": null,
      "outputs": [
        {
          "output_type": "stream",
          "name": "stdout",
          "text": [
            "<class 'pandas.core.frame.DataFrame'>\n",
            "RangeIndex: 9165 entries, 0 to 9164\n",
            "Data columns (total 7 columns):\n",
            " #   Column         Non-Null Count  Dtype  \n",
            "---  ------         --------------  -----  \n",
            " 0   date           9165 non-null   object \n",
            " 1   Open           9165 non-null   float64\n",
            " 2   High           9165 non-null   float64\n",
            " 3   Low            9165 non-null   float64\n",
            " 4   closing_price  9165 non-null   float64\n",
            " 5   Adj Close      9165 non-null   float64\n",
            " 6   Volume         9165 non-null   int64  \n",
            "dtypes: float64(5), int64(1), object(1)\n",
            "memory usage: 501.3+ KB\n"
          ]
        }
      ]
    },
    {
      "metadata": {
        "id": "B4SHqMVho_iH",
        "outputId": "6814886b-59b4-4610-b2fd-fc2edf9740fe",
        "trusted": true,
        "colab": {
          "base_uri": "https://localhost:8080/",
          "height": 455
        }
      },
      "cell_type": "code",
      "source": [
        "stock = complete_stock_df.set_index([\"date\"])\n",
        "stock"
      ],
      "execution_count": null,
      "outputs": [
        {
          "output_type": "execute_result",
          "data": {
            "text/plain": [
              "                  Open        High         Low  closing_price   Adj Close  \\\n",
              "date                                                                        \n",
              "13/03/1986    0.088542    0.101563    0.088542       0.097222    0.061109   \n",
              "14/03/1986    0.097222    0.102431    0.097222       0.100694    0.063292   \n",
              "17/03/1986    0.100694    0.103299    0.100694       0.102431    0.064384   \n",
              "18/03/1986    0.102431    0.103299    0.098958       0.099826    0.062746   \n",
              "19/03/1986    0.099826    0.100694    0.097222       0.098090    0.061655   \n",
              "...                ...         ...         ...            ...         ...   \n",
              "18/07/2022  259.750000  260.839996  253.300003     254.250000  254.250000   \n",
              "19/07/2022  257.579987  259.720001  253.679993     259.529999  259.529999   \n",
              "20/07/2022  259.899994  264.869995  258.910004     262.269989  262.269989   \n",
              "21/07/2022  259.790009  264.890015  257.029999     264.839996  264.839996   \n",
              "22/07/2022  265.239990  265.329987  259.070007     260.359985  260.359985   \n",
              "\n",
              "                Volume  \n",
              "date                    \n",
              "13/03/1986  1031788800  \n",
              "14/03/1986   308160000  \n",
              "17/03/1986   133171200  \n",
              "18/03/1986    67766400  \n",
              "19/03/1986    47894400  \n",
              "...                ...  \n",
              "18/07/2022    20975000  \n",
              "19/07/2022    25012600  \n",
              "20/07/2022    22788300  \n",
              "21/07/2022    22404700  \n",
              "22/07/2022    21871000  \n",
              "\n",
              "[9165 rows x 6 columns]"
            ],
            "text/html": [
              "\n",
              "  <div id=\"df-eba43280-9f2c-4a0e-a51c-f00f8f674064\">\n",
              "    <div class=\"colab-df-container\">\n",
              "      <div>\n",
              "<style scoped>\n",
              "    .dataframe tbody tr th:only-of-type {\n",
              "        vertical-align: middle;\n",
              "    }\n",
              "\n",
              "    .dataframe tbody tr th {\n",
              "        vertical-align: top;\n",
              "    }\n",
              "\n",
              "    .dataframe thead th {\n",
              "        text-align: right;\n",
              "    }\n",
              "</style>\n",
              "<table border=\"1\" class=\"dataframe\">\n",
              "  <thead>\n",
              "    <tr style=\"text-align: right;\">\n",
              "      <th></th>\n",
              "      <th>Open</th>\n",
              "      <th>High</th>\n",
              "      <th>Low</th>\n",
              "      <th>closing_price</th>\n",
              "      <th>Adj Close</th>\n",
              "      <th>Volume</th>\n",
              "    </tr>\n",
              "    <tr>\n",
              "      <th>date</th>\n",
              "      <th></th>\n",
              "      <th></th>\n",
              "      <th></th>\n",
              "      <th></th>\n",
              "      <th></th>\n",
              "      <th></th>\n",
              "    </tr>\n",
              "  </thead>\n",
              "  <tbody>\n",
              "    <tr>\n",
              "      <th>13/03/1986</th>\n",
              "      <td>0.088542</td>\n",
              "      <td>0.101563</td>\n",
              "      <td>0.088542</td>\n",
              "      <td>0.097222</td>\n",
              "      <td>0.061109</td>\n",
              "      <td>1031788800</td>\n",
              "    </tr>\n",
              "    <tr>\n",
              "      <th>14/03/1986</th>\n",
              "      <td>0.097222</td>\n",
              "      <td>0.102431</td>\n",
              "      <td>0.097222</td>\n",
              "      <td>0.100694</td>\n",
              "      <td>0.063292</td>\n",
              "      <td>308160000</td>\n",
              "    </tr>\n",
              "    <tr>\n",
              "      <th>17/03/1986</th>\n",
              "      <td>0.100694</td>\n",
              "      <td>0.103299</td>\n",
              "      <td>0.100694</td>\n",
              "      <td>0.102431</td>\n",
              "      <td>0.064384</td>\n",
              "      <td>133171200</td>\n",
              "    </tr>\n",
              "    <tr>\n",
              "      <th>18/03/1986</th>\n",
              "      <td>0.102431</td>\n",
              "      <td>0.103299</td>\n",
              "      <td>0.098958</td>\n",
              "      <td>0.099826</td>\n",
              "      <td>0.062746</td>\n",
              "      <td>67766400</td>\n",
              "    </tr>\n",
              "    <tr>\n",
              "      <th>19/03/1986</th>\n",
              "      <td>0.099826</td>\n",
              "      <td>0.100694</td>\n",
              "      <td>0.097222</td>\n",
              "      <td>0.098090</td>\n",
              "      <td>0.061655</td>\n",
              "      <td>47894400</td>\n",
              "    </tr>\n",
              "    <tr>\n",
              "      <th>...</th>\n",
              "      <td>...</td>\n",
              "      <td>...</td>\n",
              "      <td>...</td>\n",
              "      <td>...</td>\n",
              "      <td>...</td>\n",
              "      <td>...</td>\n",
              "    </tr>\n",
              "    <tr>\n",
              "      <th>18/07/2022</th>\n",
              "      <td>259.750000</td>\n",
              "      <td>260.839996</td>\n",
              "      <td>253.300003</td>\n",
              "      <td>254.250000</td>\n",
              "      <td>254.250000</td>\n",
              "      <td>20975000</td>\n",
              "    </tr>\n",
              "    <tr>\n",
              "      <th>19/07/2022</th>\n",
              "      <td>257.579987</td>\n",
              "      <td>259.720001</td>\n",
              "      <td>253.679993</td>\n",
              "      <td>259.529999</td>\n",
              "      <td>259.529999</td>\n",
              "      <td>25012600</td>\n",
              "    </tr>\n",
              "    <tr>\n",
              "      <th>20/07/2022</th>\n",
              "      <td>259.899994</td>\n",
              "      <td>264.869995</td>\n",
              "      <td>258.910004</td>\n",
              "      <td>262.269989</td>\n",
              "      <td>262.269989</td>\n",
              "      <td>22788300</td>\n",
              "    </tr>\n",
              "    <tr>\n",
              "      <th>21/07/2022</th>\n",
              "      <td>259.790009</td>\n",
              "      <td>264.890015</td>\n",
              "      <td>257.029999</td>\n",
              "      <td>264.839996</td>\n",
              "      <td>264.839996</td>\n",
              "      <td>22404700</td>\n",
              "    </tr>\n",
              "    <tr>\n",
              "      <th>22/07/2022</th>\n",
              "      <td>265.239990</td>\n",
              "      <td>265.329987</td>\n",
              "      <td>259.070007</td>\n",
              "      <td>260.359985</td>\n",
              "      <td>260.359985</td>\n",
              "      <td>21871000</td>\n",
              "    </tr>\n",
              "  </tbody>\n",
              "</table>\n",
              "<p>9165 rows × 6 columns</p>\n",
              "</div>\n",
              "      <button class=\"colab-df-convert\" onclick=\"convertToInteractive('df-eba43280-9f2c-4a0e-a51c-f00f8f674064')\"\n",
              "              title=\"Convert this dataframe to an interactive table.\"\n",
              "              style=\"display:none;\">\n",
              "        \n",
              "  <svg xmlns=\"http://www.w3.org/2000/svg\" height=\"24px\"viewBox=\"0 0 24 24\"\n",
              "       width=\"24px\">\n",
              "    <path d=\"M0 0h24v24H0V0z\" fill=\"none\"/>\n",
              "    <path d=\"M18.56 5.44l.94 2.06.94-2.06 2.06-.94-2.06-.94-.94-2.06-.94 2.06-2.06.94zm-11 1L8.5 8.5l.94-2.06 2.06-.94-2.06-.94L8.5 2.5l-.94 2.06-2.06.94zm10 10l.94 2.06.94-2.06 2.06-.94-2.06-.94-.94-2.06-.94 2.06-2.06.94z\"/><path d=\"M17.41 7.96l-1.37-1.37c-.4-.4-.92-.59-1.43-.59-.52 0-1.04.2-1.43.59L10.3 9.45l-7.72 7.72c-.78.78-.78 2.05 0 2.83L4 21.41c.39.39.9.59 1.41.59.51 0 1.02-.2 1.41-.59l7.78-7.78 2.81-2.81c.8-.78.8-2.07 0-2.86zM5.41 20L4 18.59l7.72-7.72 1.47 1.35L5.41 20z\"/>\n",
              "  </svg>\n",
              "      </button>\n",
              "      \n",
              "  <style>\n",
              "    .colab-df-container {\n",
              "      display:flex;\n",
              "      flex-wrap:wrap;\n",
              "      gap: 12px;\n",
              "    }\n",
              "\n",
              "    .colab-df-convert {\n",
              "      background-color: #E8F0FE;\n",
              "      border: none;\n",
              "      border-radius: 50%;\n",
              "      cursor: pointer;\n",
              "      display: none;\n",
              "      fill: #1967D2;\n",
              "      height: 32px;\n",
              "      padding: 0 0 0 0;\n",
              "      width: 32px;\n",
              "    }\n",
              "\n",
              "    .colab-df-convert:hover {\n",
              "      background-color: #E2EBFA;\n",
              "      box-shadow: 0px 1px 2px rgba(60, 64, 67, 0.3), 0px 1px 3px 1px rgba(60, 64, 67, 0.15);\n",
              "      fill: #174EA6;\n",
              "    }\n",
              "\n",
              "    [theme=dark] .colab-df-convert {\n",
              "      background-color: #3B4455;\n",
              "      fill: #D2E3FC;\n",
              "    }\n",
              "\n",
              "    [theme=dark] .colab-df-convert:hover {\n",
              "      background-color: #434B5C;\n",
              "      box-shadow: 0px 1px 3px 1px rgba(0, 0, 0, 0.15);\n",
              "      filter: drop-shadow(0px 1px 2px rgba(0, 0, 0, 0.3));\n",
              "      fill: #FFFFFF;\n",
              "    }\n",
              "  </style>\n",
              "\n",
              "      <script>\n",
              "        const buttonEl =\n",
              "          document.querySelector('#df-eba43280-9f2c-4a0e-a51c-f00f8f674064 button.colab-df-convert');\n",
              "        buttonEl.style.display =\n",
              "          google.colab.kernel.accessAllowed ? 'block' : 'none';\n",
              "\n",
              "        async function convertToInteractive(key) {\n",
              "          const element = document.querySelector('#df-eba43280-9f2c-4a0e-a51c-f00f8f674064');\n",
              "          const dataTable =\n",
              "            await google.colab.kernel.invokeFunction('convertToInteractive',\n",
              "                                                     [key], {});\n",
              "          if (!dataTable) return;\n",
              "\n",
              "          const docLinkHtml = 'Like what you see? Visit the ' +\n",
              "            '<a target=\"_blank\" href=https://colab.research.google.com/notebooks/data_table.ipynb>data table notebook</a>'\n",
              "            + ' to learn more about interactive tables.';\n",
              "          element.innerHTML = '';\n",
              "          dataTable['output_type'] = 'display_data';\n",
              "          await google.colab.output.renderOutput(dataTable, element);\n",
              "          const docLink = document.createElement('div');\n",
              "          docLink.innerHTML = docLinkHtml;\n",
              "          element.appendChild(docLink);\n",
              "        }\n",
              "      </script>\n",
              "    </div>\n",
              "  </div>\n",
              "  "
            ]
          },
          "metadata": {},
          "execution_count": 4
        }
      ]
    },
    {
      "metadata": {
        "id": "pP6Agu5P7008"
      },
      "cell_type": "markdown",
      "source": [
        "### Creating Train, Valid and Test datasets from IBM data:"
      ]
    },
    {
      "metadata": {
        "id": "wYp69Ft2QrSB",
        "trusted": true
      },
      "cell_type": "code",
      "source": [
        "#temp_ibm_df = ibm_df.reset_index()\n",
        "#masker = temp_ibm_df['date'].str.split('/').str[0].astype(int)\n",
        "training_set = stock.iloc[:-100]\n",
        "test_set = stock.iloc[-100:]"
      ],
      "execution_count": null,
      "outputs": []
    },
    {
      "cell_type": "code",
      "source": [
        "from sklearn.preprocessing import MinMaxScaler\n",
        "scaler = MinMaxScaler()\n",
        "scaler.fit(training_set)\n",
        "training_set_scaled = scaler.transform(training_set)\n",
        "testing_set_scaled = scaler.transform(test_set)"
      ],
      "metadata": {
        "id": "zlVTgd05qBNl"
      },
      "execution_count": null,
      "outputs": []
    },
    {
      "cell_type": "code",
      "source": [
        "timesteps = 8\n",
        "# First, we create data sets where each sample has with 8 timesteps and 1 output\n",
        "# So for each element of training set, we have 8 previous training set elements \n",
        "x_train = []\n",
        "y_train = []\n",
        "for i in range(timesteps,training_set.shape[0]):\n",
        "    x_train.append(training_set_scaled[i-timesteps:i,0])\n",
        "    y_train.append(training_set_scaled[i,0])\n",
        "x_train, y_train = np.array(x_train), np.array(y_train)\n",
        "\n",
        "print(x_train[0], y_train[0])\n",
        "print(x_train[1], y_train[1])"
      ],
      "metadata": {
        "colab": {
          "base_uri": "https://localhost:8080/"
        },
        "id": "gyd_wI72qpMu",
        "outputId": "18cbef10-6c1f-4ddc-dc6d-3205ef257658"
      },
      "execution_count": null,
      "outputs": [
        {
          "output_type": "stream",
          "name": "stdout",
          "text": [
            "[0.00000000e+00 2.51936359e-05 3.52710903e-05 4.03127200e-05\n",
            " 3.27517267e-05 2.77129995e-05 2.01549088e-05 1.25968180e-05] 5.0387271898801045e-06\n",
            "[2.51936359e-05 3.52710903e-05 4.03127200e-05 3.27517267e-05\n",
            " 2.77129995e-05 2.01549088e-05 1.25968180e-05 5.03872719e-06] 1.0077454379760209e-05\n"
          ]
        }
      ]
    },
    {
      "cell_type": "code",
      "source": [
        "print(x_train.shape, y_train.shape)\n",
        "x_train = x_train.reshape((x_train.shape[0], x_train.shape[1], 1))\n",
        "print(x_train.shape, y_train.shape)"
      ],
      "metadata": {
        "colab": {
          "base_uri": "https://localhost:8080/"
        },
        "id": "coiRpBiLrXsV",
        "outputId": "33601693-2de6-460a-993c-8190d124e260"
      },
      "execution_count": null,
      "outputs": [
        {
          "output_type": "stream",
          "name": "stdout",
          "text": [
            "(9057, 8) (9057,)\n",
            "(9057, 8, 1) (9057,)\n"
          ]
        }
      ]
    },
    {
      "cell_type": "code",
      "source": [
        "#Build the model"
      ],
      "metadata": {
        "id": "NhSHYncOrh0W"
      },
      "execution_count": null,
      "outputs": []
    },
    {
      "cell_type": "code",
      "source": [
        "from tensorflow.keras import layers\n",
        "def transformer_encoder(inputs, head_size, num_heads, ff_dim, dropout=0):\n",
        "    \n",
        "    # Normalization and Attention\n",
        "    # \"EMBEDDING LAYER\"\n",
        "    x = layers.LayerNormalization(epsilon=1e-6)(inputs)\n",
        "    \n",
        "    # \"ATTENTION LAYER\"\n",
        "    x = layers.MultiHeadAttention(\n",
        "        key_dim=head_size, num_heads=num_heads, dropout=dropout\n",
        "    )(x, x)\n",
        "    x = layers.Dropout(dropout)(x)\n",
        "    res = x + inputs\n",
        "    \n",
        "    # FEED FORWARD Part - you can stick anything here or just delete the whole section - it will still work. \n",
        "    x = layers.LayerNormalization(epsilon=1e-6)(res)\n",
        "    x = layers.Conv1D(filters=ff_dim, kernel_size=1, activation = \"relu\")(x)\n",
        "    x = layers.Dropout(dropout)(x)\n",
        "    x = layers.Conv1D(filters=inputs.shape[-1], kernel_size=1)(x)\n",
        "    return x + res"
      ],
      "metadata": {
        "id": "3Y5C8gwZrlCm"
      },
      "execution_count": null,
      "outputs": []
    },
    {
      "cell_type": "markdown",
      "source": [
        "#Building Model"
      ],
      "metadata": {
        "id": "PZ0PhtBeR1sY"
      }
    },
    {
      "cell_type": "code",
      "source": [
        "def build_model(\n",
        "    input_shape,\n",
        "    head_size,\n",
        "    num_heads,\n",
        "    ff_dim,\n",
        "    num_transformer_blocks,\n",
        "    mlp_units,\n",
        "    dropout=0,\n",
        "    mlp_dropout=0,\n",
        "):\n",
        "    inputs = keras.Input(shape=input_shape)\n",
        "    x = inputs\n",
        "    \n",
        "    for _ in range(num_transformer_blocks):  # This is what stacks our transformer blocks\n",
        "        x = transformer_encoder(x, head_size, num_heads, ff_dim, dropout)\n",
        "\n",
        "    x = layers.GlobalAveragePooling1D(data_format=\"channels_first\")(x)\n",
        "    for dim in mlp_units:\n",
        "        x = layers.Dense(dim, activation=\"elu\")(x)\n",
        "        x = layers.Dropout(mlp_dropout)(x)\n",
        "    outputs = layers.Dense(1, activation=\"linear\")(x) #this is a pass-through\n",
        "    return keras.Model(inputs, outputs)"
      ],
      "metadata": {
        "id": "4lBvtaD_r2dQ"
      },
      "execution_count": null,
      "outputs": []
    },
    {
      "cell_type": "code",
      "source": [
        "def lr_scheduler(epoch, lr, warmup_epochs=30, decay_epochs=100, initial_lr=1e-6, base_lr=1e-3, min_lr=5e-5):\n",
        "    if epoch <= warmup_epochs:\n",
        "        pct = epoch / warmup_epochs\n",
        "        return ((base_lr - initial_lr) * pct) + initial_lr\n",
        "\n",
        "    if epoch > warmup_epochs and epoch < warmup_epochs+decay_epochs:\n",
        "        pct = 1 - ((epoch - warmup_epochs) / decay_epochs)\n",
        "        return ((base_lr - min_lr) * pct) + min_lr\n",
        "\n",
        "    return min_lr"
      ],
      "metadata": {
        "id": "G2RBveQ9r-ul"
      },
      "execution_count": null,
      "outputs": []
    },
    {
      "cell_type": "code",
      "source": [
        "callbacks = [\n",
        "            keras.callbacks.EarlyStopping(patience=10, restore_best_weights=True),\n",
        "            keras.callbacks.LearningRateScheduler(lr_scheduler)\n",
        "            ]"
      ],
      "metadata": {
        "id": "wBeV9aousB-t"
      },
      "execution_count": null,
      "outputs": []
    },
    {
      "cell_type": "code",
      "source": [
        "input_shape = x_train.shape[1:]\n",
        "print(input_shape)"
      ],
      "metadata": {
        "colab": {
          "base_uri": "https://localhost:8080/"
        },
        "id": "HgzkR9H_sDWN",
        "outputId": "9eae5cea-a444-4946-c150-7a41a36a8e23"
      },
      "execution_count": null,
      "outputs": [
        {
          "output_type": "stream",
          "name": "stdout",
          "text": [
            "(8, 1)\n"
          ]
        }
      ]
    },
    {
      "cell_type": "code",
      "source": [
        "model = build_model(\n",
        "    input_shape,\n",
        "    head_size=46, # Embedding size for attention\n",
        "    num_heads=60, # Number of attention heads\n",
        "    ff_dim=55, # Hidden layer size in feed forward network inside transformer\n",
        "    num_transformer_blocks=5,\n",
        "    mlp_units=[256],\n",
        "    mlp_dropout=0.4,\n",
        "    dropout=0.14,\n",
        ")\n",
        "\n",
        "model.compile(\n",
        "    loss=\"mean_squared_error\",\n",
        "    optimizer=keras.optimizers.Adam(learning_rate=1e-4),\n",
        "    metrics=[\"mean_squared_error\"],\n",
        ")\n",
        "#model.summary()\n",
        "\n",
        "\n",
        "history = model.fit(\n",
        "    x_train,\n",
        "    y_train,\n",
        "    validation_split=0.2,\n",
        "    epochs=100,\n",
        "    batch_size=20,\n",
        "    callbacks=callbacks,\n",
        ")"
      ],
      "metadata": {
        "colab": {
          "base_uri": "https://localhost:8080/"
        },
        "id": "YuX1gFzrsPX-",
        "outputId": "8c775cb3-d0a3-4158-e48e-ababec7315a6"
      },
      "execution_count": null,
      "outputs": [
        {
          "output_type": "stream",
          "name": "stdout",
          "text": [
            "Epoch 1/100\n",
            "363/363 [==============================] - 58s 144ms/step - loss: 0.0017 - mean_squared_error: 0.0017 - val_loss: 0.0563 - val_mean_squared_error: 0.0563 - lr: 1.0000e-06\n",
            "Epoch 2/100\n",
            "363/363 [==============================] - 57s 156ms/step - loss: 3.6010e-04 - mean_squared_error: 3.6010e-04 - val_loss: 0.0012 - val_mean_squared_error: 0.0012 - lr: 3.4300e-05\n",
            "Epoch 3/100\n",
            "363/363 [==============================] - 57s 157ms/step - loss: 1.9822e-04 - mean_squared_error: 1.9822e-04 - val_loss: 2.9808e-04 - val_mean_squared_error: 2.9808e-04 - lr: 6.7600e-05\n",
            "Epoch 4/100\n",
            "363/363 [==============================] - 54s 149ms/step - loss: 1.8566e-04 - mean_squared_error: 1.8566e-04 - val_loss: 5.0848e-04 - val_mean_squared_error: 5.0848e-04 - lr: 1.0090e-04\n",
            "Epoch 5/100\n",
            "363/363 [==============================] - 57s 157ms/step - loss: 1.4954e-04 - mean_squared_error: 1.4954e-04 - val_loss: 3.3516e-04 - val_mean_squared_error: 3.3516e-04 - lr: 1.3420e-04\n",
            "Epoch 6/100\n",
            "363/363 [==============================] - 56s 155ms/step - loss: 1.2209e-04 - mean_squared_error: 1.2209e-04 - val_loss: 6.4776e-04 - val_mean_squared_error: 6.4776e-04 - lr: 1.6750e-04\n",
            "Epoch 7/100\n",
            "363/363 [==============================] - 56s 153ms/step - loss: 9.9707e-05 - mean_squared_error: 9.9707e-05 - val_loss: 2.9574e-04 - val_mean_squared_error: 2.9574e-04 - lr: 2.0080e-04\n",
            "Epoch 8/100\n",
            "363/363 [==============================] - 57s 158ms/step - loss: 7.9640e-05 - mean_squared_error: 7.9640e-05 - val_loss: 1.9420e-04 - val_mean_squared_error: 1.9420e-04 - lr: 2.3410e-04\n",
            "Epoch 9/100\n",
            "363/363 [==============================] - 57s 156ms/step - loss: 5.8437e-05 - mean_squared_error: 5.8437e-05 - val_loss: 5.6342e-04 - val_mean_squared_error: 5.6342e-04 - lr: 2.6740e-04\n",
            "Epoch 10/100\n",
            "363/363 [==============================] - 58s 159ms/step - loss: 4.2158e-05 - mean_squared_error: 4.2158e-05 - val_loss: 6.1203e-04 - val_mean_squared_error: 6.1203e-04 - lr: 3.0070e-04\n",
            "Epoch 11/100\n",
            "363/363 [==============================] - 51s 141ms/step - loss: 3.1215e-05 - mean_squared_error: 3.1215e-05 - val_loss: 3.3536e-04 - val_mean_squared_error: 3.3536e-04 - lr: 3.3400e-04\n",
            "Epoch 12/100\n",
            "363/363 [==============================] - 48s 133ms/step - loss: 2.3427e-05 - mean_squared_error: 2.3427e-05 - val_loss: 2.0192e-04 - val_mean_squared_error: 2.0192e-04 - lr: 3.6730e-04\n",
            "Epoch 13/100\n",
            "363/363 [==============================] - 48s 133ms/step - loss: 1.8724e-05 - mean_squared_error: 1.8724e-05 - val_loss: 1.6912e-04 - val_mean_squared_error: 1.6912e-04 - lr: 4.0060e-04\n",
            "Epoch 14/100\n",
            "363/363 [==============================] - 50s 139ms/step - loss: 1.5042e-05 - mean_squared_error: 1.5042e-05 - val_loss: 2.3329e-04 - val_mean_squared_error: 2.3329e-04 - lr: 4.3390e-04\n",
            "Epoch 15/100\n",
            "363/363 [==============================] - 48s 132ms/step - loss: 1.3828e-05 - mean_squared_error: 1.3828e-05 - val_loss: 1.5169e-04 - val_mean_squared_error: 1.5169e-04 - lr: 4.6720e-04\n",
            "Epoch 16/100\n",
            "363/363 [==============================] - 48s 134ms/step - loss: 1.2096e-05 - mean_squared_error: 1.2096e-05 - val_loss: 1.9888e-04 - val_mean_squared_error: 1.9888e-04 - lr: 5.0050e-04\n",
            "Epoch 17/100\n",
            "363/363 [==============================] - 50s 137ms/step - loss: 1.2462e-05 - mean_squared_error: 1.2462e-05 - val_loss: 6.9260e-05 - val_mean_squared_error: 6.9260e-05 - lr: 5.3380e-04\n",
            "Epoch 18/100\n",
            "363/363 [==============================] - 51s 139ms/step - loss: 1.1792e-05 - mean_squared_error: 1.1792e-05 - val_loss: 7.5330e-05 - val_mean_squared_error: 7.5330e-05 - lr: 5.6710e-04\n",
            "Epoch 19/100\n",
            "363/363 [==============================] - 49s 134ms/step - loss: 1.1527e-05 - mean_squared_error: 1.1527e-05 - val_loss: 6.6506e-04 - val_mean_squared_error: 6.6506e-04 - lr: 6.0040e-04\n",
            "Epoch 20/100\n",
            "363/363 [==============================] - 53s 146ms/step - loss: 1.1006e-05 - mean_squared_error: 1.1006e-05 - val_loss: 8.5769e-05 - val_mean_squared_error: 8.5769e-05 - lr: 6.3370e-04\n",
            "Epoch 21/100\n",
            "363/363 [==============================] - 53s 145ms/step - loss: 1.2498e-05 - mean_squared_error: 1.2498e-05 - val_loss: 2.8436e-04 - val_mean_squared_error: 2.8436e-04 - lr: 6.6700e-04\n",
            "Epoch 22/100\n",
            "363/363 [==============================] - 50s 137ms/step - loss: 1.2125e-05 - mean_squared_error: 1.2125e-05 - val_loss: 3.1522e-04 - val_mean_squared_error: 3.1522e-04 - lr: 7.0030e-04\n",
            "Epoch 23/100\n",
            "363/363 [==============================] - 51s 140ms/step - loss: 1.0922e-05 - mean_squared_error: 1.0922e-05 - val_loss: 6.4954e-05 - val_mean_squared_error: 6.4954e-05 - lr: 7.3360e-04\n",
            "Epoch 24/100\n",
            "363/363 [==============================] - 50s 137ms/step - loss: 1.1862e-05 - mean_squared_error: 1.1862e-05 - val_loss: 5.0898e-04 - val_mean_squared_error: 5.0898e-04 - lr: 7.6690e-04\n",
            "Epoch 25/100\n",
            "363/363 [==============================] - 50s 138ms/step - loss: 1.4578e-05 - mean_squared_error: 1.4578e-05 - val_loss: 2.7254e-04 - val_mean_squared_error: 2.7254e-04 - lr: 8.0020e-04\n",
            "Epoch 26/100\n",
            "363/363 [==============================] - 49s 134ms/step - loss: 1.1387e-05 - mean_squared_error: 1.1387e-05 - val_loss: 0.0015 - val_mean_squared_error: 0.0015 - lr: 8.3350e-04\n",
            "Epoch 27/100\n",
            "363/363 [==============================] - 51s 140ms/step - loss: 1.1818e-05 - mean_squared_error: 1.1818e-05 - val_loss: 7.8623e-05 - val_mean_squared_error: 7.8623e-05 - lr: 8.6680e-04\n",
            "Epoch 28/100\n",
            "363/363 [==============================] - 49s 134ms/step - loss: 1.2201e-05 - mean_squared_error: 1.2201e-05 - val_loss: 7.0245e-05 - val_mean_squared_error: 7.0245e-05 - lr: 9.0010e-04\n",
            "Epoch 29/100\n",
            "363/363 [==============================] - 49s 134ms/step - loss: 3.4324e-04 - mean_squared_error: 3.4324e-04 - val_loss: 3.1039e-04 - val_mean_squared_error: 3.1039e-04 - lr: 9.3340e-04\n",
            "Epoch 30/100\n",
            "363/363 [==============================] - 50s 138ms/step - loss: 1.8877e-05 - mean_squared_error: 1.8877e-05 - val_loss: 4.5911e-04 - val_mean_squared_error: 4.5911e-04 - lr: 9.6670e-04\n",
            "Epoch 31/100\n",
            "363/363 [==============================] - 50s 136ms/step - loss: 1.6192e-05 - mean_squared_error: 1.6192e-05 - val_loss: 5.7700e-04 - val_mean_squared_error: 5.7700e-04 - lr: 0.0010\n",
            "Epoch 32/100\n",
            "363/363 [==============================] - 50s 137ms/step - loss: 1.2644e-05 - mean_squared_error: 1.2644e-05 - val_loss: 4.8493e-04 - val_mean_squared_error: 4.8493e-04 - lr: 9.9050e-04\n",
            "Epoch 33/100\n",
            "363/363 [==============================] - 50s 138ms/step - loss: 1.2575e-05 - mean_squared_error: 1.2575e-05 - val_loss: 4.5267e-04 - val_mean_squared_error: 4.5267e-04 - lr: 9.8100e-04\n"
          ]
        }
      ]
    },
    {
      "cell_type": "code",
      "source": [
        "!pip install yahoofinancials\n",
        "#from yahoofinancials import YahooFinancials\n",
        "import numpy as np\n",
        "import tensorflow as tf\n",
        "from tensorflow import keras\n",
        "from tensorflow.keras import layers\n",
        "from keras.layers import Flatten\n",
        "from keras import backend as K\n",
        "from sklearn.preprocessing import MinMaxScaler\n",
        "from sklearn.metrics import mean_squared_error\n",
        "import sqlite3\n",
        "import pandas as pd\n",
        "import math\n",
        "import matplotlib.pyplot as plt\n",
        "plt.style.use('seaborn')\n",
        "from datetime import datetime\n",
        "\n",
        "#For reproducability\n",
        "from numpy.random import seed\n",
        "seed(1)\n",
        "tf.random.set_seed(2)\n",
        "\n",
        "# Some functions to help out with\n",
        "def plot_predictions(test,predicted,symbol):\n",
        "    plt.plot(test, color='red',label=f'Real {symbol} Stock Price')\n",
        "    plt.plot(predicted, color='blue',label=f'Predicted {symbol} Stock Price')\n",
        "    plt.title(f'{symbol} Stock Price Prediction')\n",
        "    plt.xlabel('Time')\n",
        "    plt.ylabel(f'{symbol} Stock Price')\n",
        "    plt.legend()\n",
        "    plt.show()\n",
        "\n",
        "def plot_return_predictions(test,predicted,symbol):\n",
        "    plt.plot(test, color='red',label=f'Real {symbol} Stock Price Returns')\n",
        "    plt.plot(predicted, color='blue',label=f'Predicted {symbol} Stock Price Return')\n",
        "    plt.title(f'{symbol} Stock Return Prediction')\n",
        "    plt.xlabel('Time')\n",
        "    plt.ylabel(f'{symbol} Stock Price Returns')\n",
        "    plt.legend()\n",
        "    plt.show()\n",
        "    \n",
        "def return_rmse(test,predicted):\n",
        "    rmse = math.sqrt(mean_squared_error(test, predicted))\n",
        "    print(\"The root mean squared error is {}.\".format(rmse))\n",
        "    return rmse\n"
      ],
      "metadata": {
        "colab": {
          "base_uri": "https://localhost:8080/"
        },
        "id": "oe91jpYTq_MI",
        "outputId": "15393c91-6cdc-4a02-d008-8097b347a901"
      },
      "execution_count": null,
      "outputs": [
        {
          "output_type": "stream",
          "name": "stdout",
          "text": [
            "Looking in indexes: https://pypi.org/simple, https://us-python.pkg.dev/colab-wheels/public/simple/\n",
            "Collecting yahoofinancials\n",
            "  Downloading yahoofinancials-1.6.tar.gz (27 kB)\n",
            "Requirement already satisfied: beautifulsoup4 in /usr/local/lib/python3.7/dist-packages (from yahoofinancials) (4.6.3)\n",
            "Requirement already satisfied: pytz in /usr/local/lib/python3.7/dist-packages (from yahoofinancials) (2022.2.1)\n",
            "Building wheels for collected packages: yahoofinancials\n",
            "  Building wheel for yahoofinancials (setup.py) ... \u001b[?25l\u001b[?25hdone\n",
            "  Created wheel for yahoofinancials: filename=yahoofinancials-1.6-py3-none-any.whl size=15192 sha256=b2f49d37a6250236197e6055a2c050d90c9e9b8a9fe0cdc508ca5cbbab8c13b1\n",
            "  Stored in directory: /root/.cache/pip/wheels/4b/63/46/e7110bfee88685fe69e338d1b14d1748921862aa57b6705b60\n",
            "Successfully built yahoofinancials\n",
            "Installing collected packages: yahoofinancials\n",
            "Successfully installed yahoofinancials-1.6\n"
          ]
        }
      ]
    },
    {
      "cell_type": "markdown",
      "source": [
        "Evaluate model"
      ],
      "metadata": {
        "id": "VDtHrgL1y8iR"
      }
    },
    {
      "cell_type": "code",
      "source": [
        "# First we have to frontload the test data before the inital values of our test_set\n",
        "from sklearn.preprocessing import MinMaxScaler\n",
        "scaler = MinMaxScaler()\n",
        "from sklearn.metrics import mean_squared_error\n",
        "from sklearn.metrics import mean_absolute_error\n",
        "!pip install plot_predictions\n",
        "\n",
        "from math import sqrt\n",
        "#dataset_total = pd.concat((stock[target][:train_end_date],stock[target][test_start_date:]),axis=0)\n",
        "inputs = stock[len(x_train)-len(test_set) - timesteps:].values\n",
        "inputs = inputs.reshape(-1,1)\n",
        "inputs  = scaler.fit_transform(inputs)\n",
        "\n",
        "X_test = []\n",
        "for i in range(timesteps,test_set.shape[0] + timesteps):\n",
        "    X_test.append(inputs[i-timesteps:i,0])\n",
        "X_test = np.array(X_test)\n",
        "X_test = np.reshape(X_test, (X_test.shape[0],X_test.shape[1],1))\n",
        "predicted_stock_price = model.predict(X_test)\n",
        "predicted_stock_price1 = scaler.inverse_transform(predicted_stock_price)\n",
        "\n",
        "\n",
        "#print(test_set[-3],test_set[-2], test_set[-1])\n",
        "#shifted_test_set = shift(test_set, 1) #The shift function is defined early in the notebook\n",
        "#print(shifted_test_set[-3],shifted_test_set[-2], shifted_test_set[-1])\n",
        "\n",
        "#print(predicted_stock_price[-1])\n",
        "prediction_error = test_set - predicted_stock_price # This is the error on the same day\n",
        "#Before we can calculate the predicted return we have to shift the test_set to the day before so we use the shifted_test_set\n",
        "predicted_return = (test_set - predicted_stock_price) / test_set\n",
        "\n",
        "plt.plot(history.history['loss'])\n",
        "plt.title('model loss')\n",
        "plt.ylabel('loss')\n",
        "plt.xlabel('epoch')\n",
        "plt.legend(['loss'], loc='upper left')\n",
        "plt.show()\n",
        "\n",
        "#plot_predictions(test_set,predicted_stock_price)\n",
        "#rmse=(test_set,predicted_stock_price)\n",
        "#print(rmse)\n",
        "test_set1=test_set.iloc[:,3:4]\n",
        "test_set1.shape\n",
        "\n",
        "X_test1=X_test[:,3:4]\n",
        "X_test1.shape\n",
        "\n",
        "#plot_predictions(test_set,predicted_stock_price,original_symbol)\n",
        "#return_rmse(X_test1,predicted_stock_price)\n",
        "#plot_return_predictions(test_set_return,predicted_return)\n",
        "#rmse=(test_set_return[1:], predicted_return[1:])\n"
      ],
      "metadata": {
        "colab": {
          "base_uri": "https://localhost:8080/",
          "height": 445
        },
        "id": "UcHinEVlfzsR",
        "outputId": "4c5e1ecd-6d07-4084-9d0a-e80c11c70bad"
      },
      "execution_count": null,
      "outputs": [
        {
          "output_type": "stream",
          "name": "stdout",
          "text": [
            "Looking in indexes: https://pypi.org/simple, https://us-python.pkg.dev/colab-wheels/public/simple/\n",
            "\u001b[31mERROR: Could not find a version that satisfies the requirement plot_predictions (from versions: none)\u001b[0m\n",
            "\u001b[31mERROR: No matching distribution found for plot_predictions\u001b[0m\n"
          ]
        },
        {
          "output_type": "display_data",
          "data": {
            "text/plain": [
              "<Figure size 576x396 with 1 Axes>"
            ],
            "image/png": "[encoded data removed]"
          },
          "metadata": {}
        },
        {
          "output_type": "execute_result",
          "data": {
            "text/plain": [
              "(100, 1, 1)"
            ]
          },
          "metadata": {},
          "execution_count": 132
        }
      ]
    },
    {
      "cell_type": "code",
      "source": [
        "test_set1.shape"
      ],
      "metadata": {
        "colab": {
          "base_uri": "https://localhost:8080/"
        },
        "id": "W5B7bM6CunBN",
        "outputId": "43e16547-5ea3-4047-978d-5671136ec3a2"
      },
      "execution_count": null,
      "outputs": [
        {
          "output_type": "execute_result",
          "data": {
            "text/plain": [
              "(100, 1)"
            ]
          },
          "metadata": {},
          "execution_count": 134
        }
      ]
    },
    {
      "cell_type": "code",
      "source": [
        "predicted_return.shape"
      ],
      "metadata": {
        "colab": {
          "base_uri": "https://localhost:8080/"
        },
        "id": "UaPYXpLWungU",
        "outputId": "d9185b00-f6d4-45b7-863a-4eb4bd8f4c3b"
      },
      "execution_count": null,
      "outputs": [
        {
          "output_type": "execute_result",
          "data": {
            "text/plain": [
              "(100, 6)"
            ]
          },
          "metadata": {},
          "execution_count": 135
        }
      ]
    },
    {
      "cell_type": "code",
      "source": [
        "prediction_error=prediction_error.iloc[:,3:4]"
      ],
      "metadata": {
        "id": "WDg5MfJ0uqjP"
      },
      "execution_count": null,
      "outputs": []
    },
    {
      "cell_type": "code",
      "source": [
        "abs(prediction_error)"
      ],
      "metadata": {
        "colab": {
          "base_uri": "https://localhost:8080/",
          "height": 455
        },
        "id": "z6VmoPB6u7bO",
        "outputId": "b8571d1c-dfdd-4099-fe9e-14da3164aeb4"
      },
      "execution_count": null,
      "outputs": [
        {
          "output_type": "execute_result",
          "data": {
            "text/plain": [
              "            closing_price\n",
              "date                     \n",
              "1/03/2022      294.918459\n",
              "2/03/2022      300.192343\n",
              "3/03/2022      295.908778\n",
              "4/03/2022      289.863008\n",
              "7/03/2022      278.707404\n",
              "...                   ...\n",
              "18/07/2022     254.189016\n",
              "19/07/2022     259.489258\n",
              "20/07/2022     262.272624\n",
              "21/07/2022     264.825236\n",
              "22/07/2022     260.363436\n",
              "\n",
              "[100 rows x 1 columns]"
            ],
            "text/html": [
              "\n",
              "  <div id=\"df-bbbd42d7-5daf-49a7-a32f-70347f79c1e6\">\n",
              "    <div class=\"colab-df-container\">\n",
              "      <div>\n",
              "<style scoped>\n",
              "    .dataframe tbody tr th:only-of-type {\n",
              "        vertical-align: middle;\n",
              "    }\n",
              "\n",
              "    .dataframe tbody tr th {\n",
              "        vertical-align: top;\n",
              "    }\n",
              "\n",
              "    .dataframe thead th {\n",
              "        text-align: right;\n",
              "    }\n",
              "</style>\n",
              "<table border=\"1\" class=\"dataframe\">\n",
              "  <thead>\n",
              "    <tr style=\"text-align: right;\">\n",
              "      <th></th>\n",
              "      <th>closing_price</th>\n",
              "    </tr>\n",
              "    <tr>\n",
              "      <th>date</th>\n",
              "      <th></th>\n",
              "    </tr>\n",
              "  </thead>\n",
              "  <tbody>\n",
              "    <tr>\n",
              "      <th>1/03/2022</th>\n",
              "      <td>294.918459</td>\n",
              "    </tr>\n",
              "    <tr>\n",
              "      <th>2/03/2022</th>\n",
              "      <td>300.192343</td>\n",
              "    </tr>\n",
              "    <tr>\n",
              "      <th>3/03/2022</th>\n",
              "      <td>295.908778</td>\n",
              "    </tr>\n",
              "    <tr>\n",
              "      <th>4/03/2022</th>\n",
              "      <td>289.863008</td>\n",
              "    </tr>\n",
              "    <tr>\n",
              "      <th>7/03/2022</th>\n",
              "      <td>278.707404</td>\n",
              "    </tr>\n",
              "    <tr>\n",
              "      <th>...</th>\n",
              "      <td>...</td>\n",
              "    </tr>\n",
              "    <tr>\n",
              "      <th>18/07/2022</th>\n",
              "      <td>254.189016</td>\n",
              "    </tr>\n",
              "    <tr>\n",
              "      <th>19/07/2022</th>\n",
              "      <td>259.489258</td>\n",
              "    </tr>\n",
              "    <tr>\n",
              "      <th>20/07/2022</th>\n",
              "      <td>262.272624</td>\n",
              "    </tr>\n",
              "    <tr>\n",
              "      <th>21/07/2022</th>\n",
              "      <td>264.825236</td>\n",
              "    </tr>\n",
              "    <tr>\n",
              "      <th>22/07/2022</th>\n",
              "      <td>260.363436</td>\n",
              "    </tr>\n",
              "  </tbody>\n",
              "</table>\n",
              "<p>100 rows × 1 columns</p>\n",
              "</div>\n",
              "      <button class=\"colab-df-convert\" onclick=\"convertToInteractive('df-bbbd42d7-5daf-49a7-a32f-70347f79c1e6')\"\n",
              "              title=\"Convert this dataframe to an interactive table.\"\n",
              "              style=\"display:none;\">\n",
              "        \n",
              "  <svg xmlns=\"http://www.w3.org/2000/svg\" height=\"24px\"viewBox=\"0 0 24 24\"\n",
              "       width=\"24px\">\n",
              "    <path d=\"M0 0h24v24H0V0z\" fill=\"none\"/>\n",
              "    <path d=\"M18.56 5.44l.94 2.06.94-2.06 2.06-.94-2.06-.94-.94-2.06-.94 2.06-2.06.94zm-11 1L8.5 8.5l.94-2.06 2.06-.94-2.06-.94L8.5 2.5l-.94 2.06-2.06.94zm10 10l.94 2.06.94-2.06 2.06-.94-2.06-.94-.94-2.06-.94 2.06-2.06.94z\"/><path d=\"M17.41 7.96l-1.37-1.37c-.4-.4-.92-.59-1.43-.59-.52 0-1.04.2-1.43.59L10.3 9.45l-7.72 7.72c-.78.78-.78 2.05 0 2.83L4 21.41c.39.39.9.59 1.41.59.51 0 1.02-.2 1.41-.59l7.78-7.78 2.81-2.81c.8-.78.8-2.07 0-2.86zM5.41 20L4 18.59l7.72-7.72 1.47 1.35L5.41 20z\"/>\n",
              "  </svg>\n",
              "      </button>\n",
              "      \n",
              "  <style>\n",
              "    .colab-df-container {\n",
              "      display:flex;\n",
              "      flex-wrap:wrap;\n",
              "      gap: 12px;\n",
              "    }\n",
              "\n",
              "    .colab-df-convert {\n",
              "      background-color: #E8F0FE;\n",
              "      border: none;\n",
              "      border-radius: 50%;\n",
              "      cursor: pointer;\n",
              "      display: none;\n",
              "      fill: #1967D2;\n",
              "      height: 32px;\n",
              "      padding: 0 0 0 0;\n",
              "      width: 32px;\n",
              "    }\n",
              "\n",
              "    .colab-df-convert:hover {\n",
              "      background-color: #E2EBFA;\n",
              "      box-shadow: 0px 1px 2px rgba(60, 64, 67, 0.3), 0px 1px 3px 1px rgba(60, 64, 67, 0.15);\n",
              "      fill: #174EA6;\n",
              "    }\n",
              "\n",
              "    [theme=dark] .colab-df-convert {\n",
              "      background-color: #3B4455;\n",
              "      fill: #D2E3FC;\n",
              "    }\n",
              "\n",
              "    [theme=dark] .colab-df-convert:hover {\n",
              "      background-color: #434B5C;\n",
              "      box-shadow: 0px 1px 3px 1px rgba(0, 0, 0, 0.15);\n",
              "      filter: drop-shadow(0px 1px 2px rgba(0, 0, 0, 0.3));\n",
              "      fill: #FFFFFF;\n",
              "    }\n",
              "  </style>\n",
              "\n",
              "      <script>\n",
              "        const buttonEl =\n",
              "          document.querySelector('#df-bbbd42d7-5daf-49a7-a32f-70347f79c1e6 button.colab-df-convert');\n",
              "        buttonEl.style.display =\n",
              "          google.colab.kernel.accessAllowed ? 'block' : 'none';\n",
              "\n",
              "        async function convertToInteractive(key) {\n",
              "          const element = document.querySelector('#df-bbbd42d7-5daf-49a7-a32f-70347f79c1e6');\n",
              "          const dataTable =\n",
              "            await google.colab.kernel.invokeFunction('convertToInteractive',\n",
              "                                                     [key], {});\n",
              "          if (!dataTable) return;\n",
              "\n",
              "          const docLinkHtml = 'Like what you see? Visit the ' +\n",
              "            '<a target=\"_blank\" href=https://colab.research.google.com/notebooks/data_table.ipynb>data table notebook</a>'\n",
              "            + ' to learn more about interactive tables.';\n",
              "          element.innerHTML = '';\n",
              "          dataTable['output_type'] = 'display_data';\n",
              "          await google.colab.output.renderOutput(dataTable, element);\n",
              "          const docLink = document.createElement('div');\n",
              "          docLink.innerHTML = docLinkHtml;\n",
              "          element.appendChild(docLink);\n",
              "        }\n",
              "      </script>\n",
              "    </div>\n",
              "  </div>\n",
              "  "
            ]
          },
          "metadata": {},
          "execution_count": 137
        }
      ]
    },
    {
      "cell_type": "code",
      "source": [
        "X_test1"
      ],
      "metadata": {
        "colab": {
          "base_uri": "https://localhost:8080/"
        },
        "id": "lLyLuieDvO0f",
        "outputId": "15c484d9-5932-4349-d6a3-ec924599be66"
      },
      "execution_count": null,
      "outputs": [
        {
          "output_type": "execute_result",
          "data": {
            "text/plain": [
              "array([[[6.44486106e-07]],\n",
              "\n",
              "       [[6.23930045e-07]],\n",
              "\n",
              "       [[2.41661868e-01]],\n",
              "\n",
              "       [[6.82858908e-07]],\n",
              "\n",
              "       [[7.05639264e-07]],\n",
              "\n",
              "       [[6.66934720e-07]],\n",
              "\n",
              "       [[7.00110043e-07]],\n",
              "\n",
              "       [[6.79209092e-07]],\n",
              "\n",
              "       [[3.13573805e-01]],\n",
              "\n",
              "       [[6.88388129e-07]],\n",
              "\n",
              "       [[7.05528580e-07]],\n",
              "\n",
              "       [[6.55212805e-07]],\n",
              "\n",
              "       [[7.04533353e-07]],\n",
              "\n",
              "       [[6.83605065e-07]],\n",
              "\n",
              "       [[2.16198701e-01]],\n",
              "\n",
              "       [[6.92922123e-07]],\n",
              "\n",
              "       [[6.96571265e-07]],\n",
              "\n",
              "       [[6.41610801e-07]],\n",
              "\n",
              "       [[6.45370627e-07]],\n",
              "\n",
              "       [[6.24809180e-07]],\n",
              "\n",
              "       [[4.57512687e-01]],\n",
              "\n",
              "       [[6.06223656e-07]],\n",
              "\n",
              "       [[6.32653486e-07]],\n",
              "\n",
              "       [[5.30915694e-07]],\n",
              "\n",
              "       [[5.83775032e-07]],\n",
              "\n",
              "       [[5.63595268e-07]],\n",
              "\n",
              "       [[4.23300081e-01]],\n",
              "\n",
              "       [[5.99146420e-07]],\n",
              "\n",
              "       [[6.19604614e-07]],\n",
              "\n",
              "       [[5.81231801e-07]],\n",
              "\n",
              "       [[5.89304253e-07]],\n",
              "\n",
              "       [[5.69090395e-07]],\n",
              "\n",
              "       [[2.47309413e-01]],\n",
              "\n",
              "       [[6.10647298e-07]],\n",
              "\n",
              "       [[6.49241147e-07]],\n",
              "\n",
              "       [[5.86097548e-07]],\n",
              "\n",
              "       [[6.31105149e-07]],\n",
              "\n",
              "       [[6.10632115e-07]],\n",
              "\n",
              "       [[2.94442701e-01]],\n",
              "\n",
              "       [[6.34091138e-07]],\n",
              "\n",
              "       [[6.56760810e-07]],\n",
              "\n",
              "       [[6.19493919e-07]],\n",
              "\n",
              "       [[6.41942543e-07]],\n",
              "\n",
              "       [[6.21402351e-07]],\n",
              "\n",
              "       [[2.05735204e-01]],\n",
              "\n",
              "       [[6.27234960e-07]],\n",
              "\n",
              "       [[6.44596458e-07]],\n",
              "\n",
              "       [[6.12858788e-07]],\n",
              "\n",
              "       [[6.39620359e-07]],\n",
              "\n",
              "       [[6.19094676e-07]],\n",
              "\n",
              "       [[1.65862888e-01]],\n",
              "\n",
              "       [[6.04122862e-07]],\n",
              "\n",
              "       [[6.07771993e-07]],\n",
              "\n",
              "       [[5.68735707e-07]],\n",
              "\n",
              "       [[5.82337711e-07]],\n",
              "\n",
              "       [[5.62167059e-07]],\n",
              "\n",
              "       [[2.60663587e-01]],\n",
              "\n",
              "       [[5.34012047e-07]],\n",
              "\n",
              "       [[5.44849441e-07]],\n",
              "\n",
              "       [[4.56050169e-07]],\n",
              "\n",
              "       [[4.64565047e-07]],\n",
              "\n",
              "       [[4.45124695e-07]],\n",
              "\n",
              "       [[4.77569381e-01]],\n",
              "\n",
              "       [[4.82037572e-07]],\n",
              "\n",
              "       [[5.00504981e-07]],\n",
              "\n",
              "       [[4.58925474e-07]],\n",
              "\n",
              "       [[4.69873221e-07]],\n",
              "\n",
              "       [[4.50400135e-07]],\n",
              "\n",
              "       [[2.91428170e-01]],\n",
              "\n",
              "       [[4.88783055e-07]],\n",
              "\n",
              "       [[5.12226907e-07]],\n",
              "\n",
              "       [[4.43554075e-07]],\n",
              "\n",
              "       [[4.46871807e-07]],\n",
              "\n",
              "       [[4.27541143e-07]],\n",
              "\n",
              "       [[3.57667127e-01]],\n",
              "\n",
              "       [[4.49083296e-07]],\n",
              "\n",
              "       [[5.36002820e-07]],\n",
              "\n",
              "       [[4.39904945e-07]],\n",
              "\n",
              "       [[5.26271337e-07]],\n",
              "\n",
              "       [[5.06448285e-07]],\n",
              "\n",
              "       [[3.32704908e-01]],\n",
              "\n",
              "       [[5.07471854e-07]],\n",
              "\n",
              "       [[5.11342375e-07]],\n",
              "\n",
              "       [[4.28404066e-07]],\n",
              "\n",
              "       [[4.60031042e-07]],\n",
              "\n",
              "       [[4.40618701e-07]],\n",
              "\n",
              "       [[3.46687201e-01]],\n",
              "\n",
              "       [[4.70426010e-07]],\n",
              "\n",
              "       [[5.40647178e-07]],\n",
              "\n",
              "       [[4.70426010e-07]],\n",
              "\n",
              "       [[5.22511511e-07]],\n",
              "\n",
              "       [[5.02711737e-07]],\n",
              "\n",
              "       [[2.76380949e-01]],\n",
              "\n",
              "       [[4.89557235e-07]],\n",
              "\n",
              "       [[5.76366064e-07]],\n",
              "\n",
              "       [[4.86571577e-07]],\n",
              "\n",
              "       [[5.70615454e-07]],\n",
              "\n",
              "       [[5.50517367e-07]],\n",
              "\n",
              "       [[3.09662434e-01]],\n",
              "\n",
              "       [[5.93506515e-07]]])"
            ]
          },
          "metadata": {},
          "execution_count": 138
        }
      ]
    },
    {
      "cell_type": "code",
      "source": [
        "X_test1.shape"
      ],
      "metadata": {
        "colab": {
          "base_uri": "https://localhost:8080/"
        },
        "id": "1_gd0aeywBJ7",
        "outputId": "e8a12e15-1c5c-48cb-895d-de7a05ae348b"
      },
      "execution_count": null,
      "outputs": [
        {
          "output_type": "execute_result",
          "data": {
            "text/plain": [
              "(100, 1, 1)"
            ]
          },
          "metadata": {},
          "execution_count": 139
        }
      ]
    },
    {
      "cell_type": "code",
      "source": [
        "predicted_stock_price"
      ],
      "metadata": {
        "colab": {
          "base_uri": "https://localhost:8080/"
        },
        "id": "gFISzL73O3M2",
        "outputId": "a8f7a116-7619-425f-b047-3264e5d9828d"
      },
      "execution_count": null,
      "outputs": [
        {
          "output_type": "execute_result",
          "data": {
            "text/plain": [
              "array([[ 0.03155302],\n",
              "       [-0.00234145],\n",
              "       [ 0.01123461],\n",
              "       [-0.00302296],\n",
              "       [ 0.20260046],\n",
              "       [ 0.06185402],\n",
              "       [ 0.04126806],\n",
              "       [-0.00265217],\n",
              "       [ 0.01496248],\n",
              "       [-0.00347555],\n",
              "       [ 0.13776162],\n",
              "       [ 0.0420171 ],\n",
              "       [ 0.02810268],\n",
              "       [-0.00223477],\n",
              "       [ 0.00991102],\n",
              "       [-0.00285939],\n",
              "       [ 0.29673132],\n",
              "       [ 0.09109184],\n",
              "       [ 0.06058389],\n",
              "       [-0.00331797],\n",
              "       [ 0.0223782 ],\n",
              "       [-0.00434254],\n",
              "       [ 0.27087614],\n",
              "       [ 0.0835281 ],\n",
              "       [ 0.05600841],\n",
              "       [-0.00315429],\n",
              "       [ 0.02062121],\n",
              "       [-0.00414111],\n",
              "       [ 0.15667763],\n",
              "       [ 0.04813204],\n",
              "       [ 0.03231746],\n",
              "       [-0.00236538],\n",
              "       [ 0.01152786],\n",
              "       [-0.00305907],\n",
              "       [ 0.18999545],\n",
              "       [ 0.05796424],\n",
              "       [ 0.03868765],\n",
              "       [-0.00256815],\n",
              "       [ 0.01397213],\n",
              "       [-0.00335655],\n",
              "       [ 0.13114423],\n",
              "       [ 0.03993181],\n",
              "       [ 0.0266833 ],\n",
              "       [-0.00219146],\n",
              "       [ 0.00936664],\n",
              "       [-0.00279167],\n",
              "       [ 0.10606097],\n",
              "       [ 0.03199463],\n",
              "       [ 0.02126654],\n",
              "       [-0.00202859],\n",
              "       [ 0.00728977],\n",
              "       [-0.00253046],\n",
              "       [ 0.16897035],\n",
              "       [ 0.05129204],\n",
              "       [ 0.03412417],\n",
              "       [-0.00242233],\n",
              "       [ 0.01222092],\n",
              "       [-0.00314412],\n",
              "       [ 0.30911335],\n",
              "       [ 0.09503224],\n",
              "       [ 0.06326158],\n",
              "       [-0.00341562],\n",
              "       [ 0.02340643],\n",
              "       [-0.00445941],\n",
              "       [ 0.18474624],\n",
              "       [ 0.05692475],\n",
              "       [ 0.03828069],\n",
              "       [-0.00255515],\n",
              "       [ 0.0138158 ],\n",
              "       [-0.00333787],\n",
              "       [ 0.23069358],\n",
              "       [ 0.07066903],\n",
              "       [ 0.04720341],\n",
              "       [-0.00284999],\n",
              "       [ 0.01724067],\n",
              "       [-0.00374673],\n",
              "       [ 0.21341586],\n",
              "       [ 0.06546772],\n",
              "       [ 0.04384519],\n",
              "       [-0.00273744],\n",
              "       [ 0.01595149],\n",
              "       [-0.00359397],\n",
              "       [ 0.22291441],\n",
              "       [ 0.06835019],\n",
              "       [ 0.04572688],\n",
              "       [-0.00280024],\n",
              "       [ 0.01667387],\n",
              "       [-0.00367972],\n",
              "       [ 0.176755  ],\n",
              "       [ 0.05411224],\n",
              "       [ 0.03624872],\n",
              "       [-0.00248981],\n",
              "       [ 0.01303621],\n",
              "       [-0.00324331],\n",
              "       [ 0.19954346],\n",
              "       [ 0.06098355],\n",
              "       [ 0.04074066],\n",
              "       [-0.00263499],\n",
              "       [ 0.01476003],\n",
              "       [-0.00345139]], dtype=float32)"
            ]
          },
          "metadata": {},
          "execution_count": 140
        }
      ]
    },
    {
      "cell_type": "code",
      "source": [
        "predicted_stock_price.shape"
      ],
      "metadata": {
        "colab": {
          "base_uri": "https://localhost:8080/"
        },
        "id": "dGdeh3B2w8f7",
        "outputId": "20a718a3-4574-4649-8e80-f1e13dcea2fc"
      },
      "execution_count": null,
      "outputs": [
        {
          "output_type": "execute_result",
          "data": {
            "text/plain": [
              "(100, 1)"
            ]
          },
          "metadata": {},
          "execution_count": 141
        }
      ]
    },
    {
      "cell_type": "code",
      "source": [
        "predicted_stock_price2 = predicted_stock_price.reshape(100,1,1)"
      ],
      "metadata": {
        "id": "7UuscyNvxEbG"
      },
      "execution_count": null,
      "outputs": []
    },
    {
      "cell_type": "code",
      "source": [
        "test_set1"
      ],
      "metadata": {
        "colab": {
          "base_uri": "https://localhost:8080/",
          "height": 455
        },
        "id": "5YXt2Pr4yNj4",
        "outputId": "c9143a11-95ab-4fe7-944c-fb6fcc98d672"
      },
      "execution_count": null,
      "outputs": [
        {
          "output_type": "execute_result",
          "data": {
            "text/plain": [
              "            closing_price\n",
              "date                     \n",
              "1/03/2022      294.950012\n",
              "2/03/2022      300.190002\n",
              "3/03/2022      295.920013\n",
              "4/03/2022      289.859985\n",
              "7/03/2022      278.910004\n",
              "...                   ...\n",
              "18/07/2022     254.250000\n",
              "19/07/2022     259.529999\n",
              "20/07/2022     262.269989\n",
              "21/07/2022     264.839996\n",
              "22/07/2022     260.359985\n",
              "\n",
              "[100 rows x 1 columns]"
            ],
            "text/html": [
              "\n",
              "  <div id=\"df-d5edbb8b-c0b0-4ffd-a493-171c826f48bb\">\n",
              "    <div class=\"colab-df-container\">\n",
              "      <div>\n",
              "<style scoped>\n",
              "    .dataframe tbody tr th:only-of-type {\n",
              "        vertical-align: middle;\n",
              "    }\n",
              "\n",
              "    .dataframe tbody tr th {\n",
              "        vertical-align: top;\n",
              "    }\n",
              "\n",
              "    .dataframe thead th {\n",
              "        text-align: right;\n",
              "    }\n",
              "</style>\n",
              "<table border=\"1\" class=\"dataframe\">\n",
              "  <thead>\n",
              "    <tr style=\"text-align: right;\">\n",
              "      <th></th>\n",
              "      <th>closing_price</th>\n",
              "    </tr>\n",
              "    <tr>\n",
              "      <th>date</th>\n",
              "      <th></th>\n",
              "    </tr>\n",
              "  </thead>\n",
              "  <tbody>\n",
              "    <tr>\n",
              "      <th>1/03/2022</th>\n",
              "      <td>294.950012</td>\n",
              "    </tr>\n",
              "    <tr>\n",
              "      <th>2/03/2022</th>\n",
              "      <td>300.190002</td>\n",
              "    </tr>\n",
              "    <tr>\n",
              "      <th>3/03/2022</th>\n",
              "      <td>295.920013</td>\n",
              "    </tr>\n",
              "    <tr>\n",
              "      <th>4/03/2022</th>\n",
              "      <td>289.859985</td>\n",
              "    </tr>\n",
              "    <tr>\n",
              "      <th>7/03/2022</th>\n",
              "      <td>278.910004</td>\n",
              "    </tr>\n",
              "    <tr>\n",
              "      <th>...</th>\n",
              "      <td>...</td>\n",
              "    </tr>\n",
              "    <tr>\n",
              "      <th>18/07/2022</th>\n",
              "      <td>254.250000</td>\n",
              "    </tr>\n",
              "    <tr>\n",
              "      <th>19/07/2022</th>\n",
              "      <td>259.529999</td>\n",
              "    </tr>\n",
              "    <tr>\n",
              "      <th>20/07/2022</th>\n",
              "      <td>262.269989</td>\n",
              "    </tr>\n",
              "    <tr>\n",
              "      <th>21/07/2022</th>\n",
              "      <td>264.839996</td>\n",
              "    </tr>\n",
              "    <tr>\n",
              "      <th>22/07/2022</th>\n",
              "      <td>260.359985</td>\n",
              "    </tr>\n",
              "  </tbody>\n",
              "</table>\n",
              "<p>100 rows × 1 columns</p>\n",
              "</div>\n",
              "      <button class=\"colab-df-convert\" onclick=\"convertToInteractive('df-d5edbb8b-c0b0-4ffd-a493-171c826f48bb')\"\n",
              "              title=\"Convert this dataframe to an interactive table.\"\n",
              "              style=\"display:none;\">\n",
              "        \n",
              "  <svg xmlns=\"http://www.w3.org/2000/svg\" height=\"24px\"viewBox=\"0 0 24 24\"\n",
              "       width=\"24px\">\n",
              "    <path d=\"M0 0h24v24H0V0z\" fill=\"none\"/>\n",
              "    <path d=\"M18.56 5.44l.94 2.06.94-2.06 2.06-.94-2.06-.94-.94-2.06-.94 2.06-2.06.94zm-11 1L8.5 8.5l.94-2.06 2.06-.94-2.06-.94L8.5 2.5l-.94 2.06-2.06.94zm10 10l.94 2.06.94-2.06 2.06-.94-2.06-.94-.94-2.06-.94 2.06-2.06.94z\"/><path d=\"M17.41 7.96l-1.37-1.37c-.4-.4-.92-.59-1.43-.59-.52 0-1.04.2-1.43.59L10.3 9.45l-7.72 7.72c-.78.78-.78 2.05 0 2.83L4 21.41c.39.39.9.59 1.41.59.51 0 1.02-.2 1.41-.59l7.78-7.78 2.81-2.81c.8-.78.8-2.07 0-2.86zM5.41 20L4 18.59l7.72-7.72 1.47 1.35L5.41 20z\"/>\n",
              "  </svg>\n",
              "      </button>\n",
              "      \n",
              "  <style>\n",
              "    .colab-df-container {\n",
              "      display:flex;\n",
              "      flex-wrap:wrap;\n",
              "      gap: 12px;\n",
              "    }\n",
              "\n",
              "    .colab-df-convert {\n",
              "      background-color: #E8F0FE;\n",
              "      border: none;\n",
              "      border-radius: 50%;\n",
              "      cursor: pointer;\n",
              "      display: none;\n",
              "      fill: #1967D2;\n",
              "      height: 32px;\n",
              "      padding: 0 0 0 0;\n",
              "      width: 32px;\n",
              "    }\n",
              "\n",
              "    .colab-df-convert:hover {\n",
              "      background-color: #E2EBFA;\n",
              "      box-shadow: 0px 1px 2px rgba(60, 64, 67, 0.3), 0px 1px 3px 1px rgba(60, 64, 67, 0.15);\n",
              "      fill: #174EA6;\n",
              "    }\n",
              "\n",
              "    [theme=dark] .colab-df-convert {\n",
              "      background-color: #3B4455;\n",
              "      fill: #D2E3FC;\n",
              "    }\n",
              "\n",
              "    [theme=dark] .colab-df-convert:hover {\n",
              "      background-color: #434B5C;\n",
              "      box-shadow: 0px 1px 3px 1px rgba(0, 0, 0, 0.15);\n",
              "      filter: drop-shadow(0px 1px 2px rgba(0, 0, 0, 0.3));\n",
              "      fill: #FFFFFF;\n",
              "    }\n",
              "  </style>\n",
              "\n",
              "      <script>\n",
              "        const buttonEl =\n",
              "          document.querySelector('#df-d5edbb8b-c0b0-4ffd-a493-171c826f48bb button.colab-df-convert');\n",
              "        buttonEl.style.display =\n",
              "          google.colab.kernel.accessAllowed ? 'block' : 'none';\n",
              "\n",
              "        async function convertToInteractive(key) {\n",
              "          const element = document.querySelector('#df-d5edbb8b-c0b0-4ffd-a493-171c826f48bb');\n",
              "          const dataTable =\n",
              "            await google.colab.kernel.invokeFunction('convertToInteractive',\n",
              "                                                     [key], {});\n",
              "          if (!dataTable) return;\n",
              "\n",
              "          const docLinkHtml = 'Like what you see? Visit the ' +\n",
              "            '<a target=\"_blank\" href=https://colab.research.google.com/notebooks/data_table.ipynb>data table notebook</a>'\n",
              "            + ' to learn more about interactive tables.';\n",
              "          element.innerHTML = '';\n",
              "          dataTable['output_type'] = 'display_data';\n",
              "          await google.colab.output.renderOutput(dataTable, element);\n",
              "          const docLink = document.createElement('div');\n",
              "          docLink.innerHTML = docLinkHtml;\n",
              "          element.appendChild(docLink);\n",
              "        }\n",
              "      </script>\n",
              "    </div>\n",
              "  </div>\n",
              "  "
            ]
          },
          "metadata": {},
          "execution_count": 145
        }
      ]
    },
    {
      "cell_type": "code",
      "source": [
        "X_test2=X_test1.reshape(100,1)"
      ],
      "metadata": {
        "id": "kYibyNxjyhWX"
      },
      "execution_count": null,
      "outputs": []
    },
    {
      "cell_type": "code",
      "source": [
        "rmse= np.sqrt(mean_squared_error(X_test2,predicted_stock_price))\n",
        "print(\"RMSE for  =\", rmse)\n",
        "print(\"MSE for  =\", mean_squared_error(X_test2,predicted_stock_price))\n",
        "print(\"RMSE for  =\", mean_squared_error(X_test2,predicted_stock_price) ** 0.5)\n",
        "print(\"MAE for  =\", mean_absolute_error(X_test2,predicted_stock_price))"
      ],
      "metadata": {
        "colab": {
          "base_uri": "https://localhost:8080/"
        },
        "id": "1rMC_GSYyuzI",
        "outputId": "c1b3e9c7-4bf7-4e31-ee26-cb9197ea981e"
      },
      "execution_count": null,
      "outputs": [
        {
          "output_type": "stream",
          "name": "stdout",
          "text": [
            "RMSE for  = 0.1530980946337742\n",
            "MSE for  = 0.02343902658049208\n",
            "RMSE for  = 0.1530980946337742\n",
            "MAE for  = 0.09936226476959335\n"
          ]
        }
      ]
    },
    {
      "cell_type": "code",
      "source": [
        "#test_set1[\"Predicted Closing Price\"]  = predicted_stock_price1"
      ],
      "metadata": {
        "id": "ZmqOVPoGNtRV"
      },
      "execution_count": null,
      "outputs": []
    },
    {
      "cell_type": "code",
      "source": [
        "#s = pd.Series(predicted_stock_price, index =df2.index[-100:])\n",
        "#s\n",
        "plt.figure(figsize=(30,10), dpi=80)\n",
        "test_set1.plot(label='Actual Stock Price', legend=True)\n",
        "#predicted_stock_price.plot(label='Predicted Price', legend=True,)"
      ],
      "metadata": {
        "colab": {
          "base_uri": "https://localhost:8080/",
          "height": 396
        },
        "id": "rWZtygDcK-r1",
        "outputId": "64ae7a86-15a4-405d-d149-ae2bd5da3698"
      },
      "execution_count": null,
      "outputs": [
        {
          "output_type": "execute_result",
          "data": {
            "text/plain": [
              "<matplotlib.axes._subplots.AxesSubplot at 0x7fe1fba41510>"
            ]
          },
          "metadata": {},
          "execution_count": 151
        },
        {
          "output_type": "display_data",
          "data": {
            "text/plain": [
              "<Figure size 2400x800 with 0 Axes>"
            ]
          },
          "metadata": {}
        },
        {
          "output_type": "display_data",
          "data": {
            "text/plain": [
              "<Figure size 576x396 with 1 Axes>"
            ],
            "image/png": "[encoded data removed]"
          },
          "metadata": {}
        }
      ]
    }
  ],
  "metadata": {
    "kernelspec": {
      "name": "python3",
      "display_name": "Python 3",
      "language": "python"
    },
    "language_info": {
      "name": "python",
      "version": "3.7.9",
      "mimetype": "text/x-python",
      "codemirror_mode": {
        "name": "ipython",
        "version": 3
      },
      "pygments_lexer": "ipython3",
      "nbconvert_exporter": "python",
      "file_extension": ".py"
    },
    "colab": {
      "provenance": [],
      "collapsed_sections": []
    }
  },
  "nbformat": 4,
  "nbformat_minor": 0
}